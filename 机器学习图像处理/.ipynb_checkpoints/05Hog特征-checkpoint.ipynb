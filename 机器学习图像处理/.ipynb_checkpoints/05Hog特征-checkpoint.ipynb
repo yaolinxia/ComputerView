{
 "cells": [
  {
   "cell_type": "code",
   "execution_count": null,
   "metadata": {},
   "outputs": [],
   "source": [
    "# 【3780】hog svm line训练【3780】\n",
    "#。hog*svm = 值\n",
    "# 值》T 目标obj "
   ]
  },
  {
   "cell_type": "code",
   "execution_count": null,
   "metadata": {},
   "outputs": [],
   "source": [
    "#整体hog cell复用\n",
    "# 3780\n",
    "# 3780 《-win（block cell bin）\n",
    "# 1《-bin\n",
    "# cell0 cell3 bin0-bin8\n",
    "# cell0: bin0 bin1 。。。bin8\n",
    "# cell1: bin0 bin1 。。。bin8\n",
    "# cell2: bin0 bin1 。。。bin8\n",
    "# cell3: bin0 bin1 。。。bin8\n",
    "#ij cell0 bin0=《f0，\n",
    "#i+1 j cell0 bin0 = f1\n",
    "#ij。。。。\n",
    "# sumbin0（f0+f1.。）= bin0\n",
    "# 权重累加\n",
    "#ij bin0 bin1 \n",
    "\n",
    "# cell复用\n",
    "\n",
    "# block 4个cell\n",
    "# 【0】【】【】【3】\n",
    "# cell0 bin0-bin9 \n",
    "# cellx0 cellx2 cellx4\n",
    "# cellx0:ij-》bin bin+1\n",
    "# cellx2：ij -》 cell2 cell3 -》bin bin+1 bin bin+1\n",
    "# cellx4：ij\n",
    "\n",
    "# 【cell 9】【4cell】【105】 = 3780"
   ]
  },
  {
   "cell_type": "code",
   "execution_count": null,
   "metadata": {},
   "outputs": [],
   "source": [
    "# bin 投影 梯度\n",
    "# bin 0-360 9bin 0-40\n",
    "# bin1 0-20 180-200\n",
    "# ij f a = 10\n",
    "# 0-20 center bin1 a=190 180 200 bin1\n",
    "# f \n",
    "# 25 bin1 bin2 \n",
    "# f1 = f*f（夹角） f2 = f*（1-f（夹角））  f（夹角）  0-1.0\n",
    "# +1 hog "
   ]
  },
  {
   "cell_type": "code",
   "execution_count": null,
   "metadata": {},
   "outputs": [],
   "source": [
    "#2·2 梯度 方向 模版\n",
    "# （计算单位是像素）像素都有一个梯度 》hog== win（所有的像素共同组合在一起，构成了Hog特征）\n",
    "# 特征模版-》haar类似（Haar也是利用模板）\n",
    "# 水平方向【1 0 -1】；竖直方向【【1】【0】【-1】】\n",
    "# a = p1*1+p2*0+p3*(-1) = 相邻像素之差\n",
    "# b = 上下像素之差\n",
    "# f（浮值） = 根号下（a方+b方）\n",
    "# angle = arctan（a/b）"
   ]
  },
  {
   "cell_type": "code",
   "execution_count": null,
   "metadata": {},
   "outputs": [],
   "source": [
    "#7 cell和bin紧紧关联在一起的 bin 梯度：就是个运算\n",
    "# 每个像素-》梯度（每个像素都有一个梯度） ：大小 f 方向 angle(bin和方向有关)\n",
    "# 0-360 /40 = 9块 =称为9单元，一个bin就是一个bin 9bin\n",
    "# 1bin = 40 cell-》360必须完整包含369度信息，就等价于包含9个bin-〉9bin\n",
    "# hog特征维度：Haar特征是一个具体的值，Hog特征得到的是一个向量，所以就有一个维度的概念\n",
    "# haar 值 hog 向量 （维度）-》完全描述 一个obj info all(因为是用来分类的，所以应该能完全描述一个obJ对象，包含这个obj对象的所有信息)\n",
    "# 维度 = 105（block个数）*4（每个block中cell的个数）*9（每个cell对应的bin的个数）=3780 （每一个win窗体中有多少个block）"
   ]
  },
  {
   "cell_type": "code",
   "execution_count": null,
   "metadata": {},
   "outputs": [],
   "source": [
    "#1 什么是hog》？特征 某个像素 某种运算\n",
    "#2 2·1 模块划分 2·2 梯度 方向 模版 2·3 根据梯度，方向进行bin 如何进行投影 2·4 计算每个模块hog\n",
    "#2·1 模块划分 \n",
    "# image（整个ppt） win（蓝色长方形） block（红色） ；cell （绿色）（size）\n",
    "#image》win〉block》cell\n",
    "#block setp（滑动步长）  win step cell bin \n",
    "#win窗体 特征计算最顶层单元 -》obj （一个窗口必须包含一个目标，才能唯一描述当前obj的目标）\n",
    "# 1 win size大小可以任意 50*100 20*50    官方推荐：64*128这个宽高比比较合适\n",
    "# 2 2.1 block（指红色的部分）一般比win小，而且一般win是block的整数倍 《win 2.2 win size w h / block （wh） 16*16\n",
    "# 3 block step  如何win下滑动 如果block是16*16，那么推荐大小8*8\n",
    "# 4 计算block cout = （（64-16）/8+1）*（（128-16）/ 8+1）= 105 block\n",
    "# 5 cell size 8*8 \n",
    "# 6 block = ？cell不可滑动 16*16 = 2*2 = 》4cell  cell1-cell4\n",
    "# 7 bin？"
   ]
  }
 ],
 "metadata": {
  "kernelspec": {
   "display_name": "Python 3",
   "language": "python",
   "name": "python3"
  },
  "language_info": {
   "codemirror_mode": {
    "name": "ipython",
    "version": 3
   },
   "file_extension": ".py",
   "mimetype": "text/x-python",
   "name": "python",
   "nbconvert_exporter": "python",
   "pygments_lexer": "ipython3",
   "version": "3.6.2"
  }
 },
 "nbformat": 4,
 "nbformat_minor": 2
}
