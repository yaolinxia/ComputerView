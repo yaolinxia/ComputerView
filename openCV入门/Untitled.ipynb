{
 "cells": [
  {
   "cell_type": "code",
   "execution_count": 10,
   "metadata": {},
   "outputs": [
    {
     "name": "stdout",
     "output_type": "stream",
     "text": [
      "<PIL.Image.Image image mode=1 size=2x5 at 0x64796A0>\n",
      "<PIL.ImageDraw.ImageDraw object at 0x000000000647B2E8>\n"
     ]
    }
   ],
   "source": [
    "from PIL import Image, ImageFont, ImageDraw\n",
    "import numpy as np\n",
    "import cv2\n",
    "height =2\n",
    "width = 5\n",
    "img = Image.new(\"1\",(height, width), 1)\n",
    "# img = np.ones((height, width), dtype=float) * 255\n",
    "print(img)\n",
    "draw = ImageDraw.Draw(img)\n",
    "print(draw)\n",
    "# cv2.imshow('draw', draw)\n"
   ]
  },
  {
   "cell_type": "code",
   "execution_count": 11,
   "metadata": {},
   "outputs": [
    {
     "data": {
      "text/plain": [
       "'\\n#NumPy定义的结构元素\\nNpKernel = np.uint8(np.ones((3,3)))\\nNperoded = cv2.erode(img,NpKernel)\\n#显示腐蚀后的图像\\ncv2.imshow(\"Eroded by NumPy kernel\",Nperoded);\\n \\ncv2.waitKey(0)\\ncv2.destroyAllWindows()\\n'"
      ]
     },
     "execution_count": 11,
     "metadata": {},
     "output_type": "execute_result"
    }
   ],
   "source": [
    "#coding=utf-8\n",
    "import cv2\n",
    "import numpy as np\n",
    " \n",
    "img = cv2.imread('image0.jpg',0)\n",
    "#OpenCV定义的结构元素\n",
    "kernel = cv2.getStructuringElement(cv2.MORPH_RECT,(3, 3))\n",
    " \n",
    "#腐蚀图像\n",
    "eroded = cv2.erode(img,kernel)\n",
    "#显示腐蚀后的图像\n",
    "cv2.imshow(\"Eroded Image\",eroded);\n",
    " \n",
    "#膨胀图像\n",
    "dilated = cv2.dilate(img,kernel)\n",
    "#显示膨胀后的图像\n",
    "cv2.imshow(\"Dilated Image\",dilated);\n",
    "#原图像\n",
    "cv2.imshow(\"Origin\", img)\n",
    "\"\"\"\n",
    "#NumPy定义的结构元素\n",
    "NpKernel = np.uint8(np.ones((3,3)))\n",
    "Nperoded = cv2.erode(img,NpKernel)\n",
    "#显示腐蚀后的图像\n",
    "cv2.imshow(\"Eroded by NumPy kernel\",Nperoded);\n",
    " \n",
    "cv2.waitKey(0)\n",
    "cv2.destroyAllWindows()\n",
    "\"\"\""
   ]
  },
  {
   "cell_type": "code",
   "execution_count": 10,
   "metadata": {},
   "outputs": [],
   "source": [
    "import numpy as np\n",
    "import cv2\n",
    "font = cv2.FONT_HERSHEY_SIMPLEX#默认字体\n",
    "im = np.zeros((50,50,3),np.uint8)\n",
    "#添加文字，1.2表示字体大小，（0,40）是初始的位置，(255,255,255)表示颜色，2表示粗细\n",
    "img2 = cv2.putText(im, '3', (0, 40), font, 1.2, (255, 255, 255), 2)\n",
    "cv2.imshow('dst', img2)\n",
    "\n",
    "#img2.show()"
   ]
  },
  {
   "cell_type": "code",
   "execution_count": null,
   "metadata": {},
   "outputs": [],
   "source": [
    "import numpy as np\n",
    "import cv2\n",
    "from PIL import ImageFont, ImageDraw, Image\n",
    "width = 16#宽\n",
    "height = 70#高\n",
    "img = Image.new(\"1\", (width, height), 1)#白色"
   ]
  }
 ],
 "metadata": {
  "kernelspec": {
   "display_name": "Python 3",
   "language": "python",
   "name": "python3"
  },
  "language_info": {
   "codemirror_mode": {
    "name": "ipython",
    "version": 3
   },
   "file_extension": ".py",
   "mimetype": "text/x-python",
   "name": "python",
   "nbconvert_exporter": "python",
   "pygments_lexer": "ipython3",
   "version": "3.6.2"
  }
 },
 "nbformat": 4,
 "nbformat_minor": 2
}
