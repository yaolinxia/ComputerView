{
 "cells": [
  {
   "cell_type": "code",
   "execution_count": null,
   "metadata": {},
   "outputs": [
    {
     "name": "stdout",
     "output_type": "stream",
     "text": [
      "(547, 730, 3)\n"
     ]
    }
   ],
   "source": [
    "import cv2\n",
    "import numpy as np\n",
    "img = cv2.imread('image0.jpg',1)\n",
    "imgInfo = img.shape\n",
    "print(imgInfo)\n",
    "height = imgInfo[0]\n",
    "width = imgInfo[1]\n",
    "#mode = imgInfo[2]\n",
    "dstHeight = int(height/2)\n",
    "dstWidth = int(width/2)\n",
    "#第一个参数，图片的信息，宽度，高度，3表明每个像素由三个基本颜色组成。np.uint8表示输出类型\n",
    "dstImage = np.zeros((dstHeight,dstWidth,3), np.uint8)#0-255\n",
    "for i in range(0, dstHeight):#行\n",
    "    for j in range(0, dstWidth):#列\n",
    "        iNew = int(i*(height*1.0)/dstHeight)\n",
    "        jNew = int(j*(width*1.0)/dstWidth)\n",
    "        dstImage[i,j] = img[iNew, jNew]\n",
    "cv2.imshow('dst',dstImage)        \n",
    "cv2.waitKey(0)\n"
   ]
  },
  {
   "cell_type": "code",
   "execution_count": null,
   "metadata": {},
   "outputs": [],
   "source": []
  }
 ],
 "metadata": {
  "kernelspec": {
   "display_name": "Python 3",
   "language": "python",
   "name": "python3"
  },
  "language_info": {
   "codemirror_mode": {
    "name": "ipython",
    "version": 3
   },
   "file_extension": ".py",
   "mimetype": "text/x-python",
   "name": "python",
   "nbconvert_exporter": "python",
   "pygments_lexer": "ipython3",
   "version": "3.6.2"
  }
 },
 "nbformat": 4,
 "nbformat_minor": 2
}
