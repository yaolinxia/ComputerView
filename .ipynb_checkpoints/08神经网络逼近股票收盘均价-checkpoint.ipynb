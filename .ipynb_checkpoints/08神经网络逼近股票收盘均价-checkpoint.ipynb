{
 "cells": [
  {
   "cell_type": "code",
   "execution_count": 9,
   "metadata": {},
   "outputs": [
    {
     "name": "stdout",
     "output_type": "stream",
     "text": [
      "[  1.   2.   3.   4.   5.   6.   7.   8.   9.  10.  11.  12.  13.  14.  15.]\n"
     ]
    },
    {
     "ename": "NameError",
     "evalue": "name 'rang' is not defined",
     "output_type": "error",
     "traceback": [
      "\u001b[1;31m---------------------------------------------------------------------------\u001b[0m",
      "\u001b[1;31mNameError\u001b[0m                                 Traceback (most recent call last)",
      "\u001b[1;32m<ipython-input-9-f62e14adc0af>\u001b[0m in \u001b[0;36m<module>\u001b[1;34m()\u001b[0m\n\u001b[0;32m      7\u001b[0m \u001b[0mprint\u001b[0m\u001b[1;33m(\u001b[0m\u001b[0mdate\u001b[0m\u001b[1;33m)\u001b[0m\u001b[1;33m\u001b[0m\u001b[0m\n\u001b[0;32m      8\u001b[0m \u001b[0mplt\u001b[0m\u001b[1;33m.\u001b[0m\u001b[0mfigure\u001b[0m\u001b[1;33m(\u001b[0m\u001b[1;33m)\u001b[0m\u001b[1;31m#定义一个绘图\u001b[0m\u001b[1;33m\u001b[0m\u001b[0m\n\u001b[1;32m----> 9\u001b[1;33m \u001b[1;32mfor\u001b[0m \u001b[0mi\u001b[0m \u001b[1;32min\u001b[0m \u001b[0mrang\u001b[0m\u001b[1;33m(\u001b[0m\u001b[1;36m0\u001b[0m\u001b[1;33m,\u001b[0m\u001b[1;36m15\u001b[0m\u001b[1;33m)\u001b[0m\u001b[1;33m:\u001b[0m\u001b[1;31m#一共有15个数据\u001b[0m\u001b[1;33m\u001b[0m\u001b[0m\n\u001b[0m\u001b[0;32m     10\u001b[0m     \u001b[1;31m#1 柱状图\u001b[0m\u001b[1;33m\u001b[0m\u001b[1;33m\u001b[0m\u001b[0m\n\u001b[0;32m     11\u001b[0m     \u001b[0mdataOne\u001b[0m \u001b[1;33m=\u001b[0m \u001b[0mnp\u001b[0m\u001b[1;33m.\u001b[0m\u001b[0mzeros\u001b[0m\u001b[1;33m(\u001b[0m\u001b[1;33m[\u001b[0m\u001b[1;36m2\u001b[0m\u001b[1;33m]\u001b[0m\u001b[1;33m)\u001b[0m\u001b[1;33m\u001b[0m\u001b[0m\n",
      "\u001b[1;31mNameError\u001b[0m: name 'rang' is not defined"
     ]
    }
   ],
   "source": [
    "import tensorflow as tf\n",
    "import numpy as np\n",
    "import matplotlib.pyplot as plt\n",
    "date = np.linspace(1, 15, 15)#从1增长到15\n",
    "endprice = np.array([2511.90,2538.26,2510.68,2591.66,2732.98,2701.69,2701.29,2678.67,2726.50,2681.50,2739.17,2715.07,2823.58,2864.90,2919.08])#收盘价格\n",
    "beginprice = np.array([2438.71,2500.88,2534.95,2512.52,2594.04,2743.26,2697.47,2695.24,2678.23,2722.13,2674.93,2744.13,2717.46,2832.73,2877.40])#开盘价格\n",
    "print(date)\n",
    "plt.figure()#定义一个绘图\n",
    "for i in range(0,15):#一共有15个数据\n",
    "    #1 柱状图\n",
    "    dataOne = np.zeros([2])\n",
    "    dataOne[0] = i;\n",
    "    dataOne[1] = i;\n",
    "    priceOne = np.zeros([2])\n",
    "    priceOne[0] = beginprice[i]\n",
    "    priceOne[1] = endprice[i]\n",
    "    if endprice[i] >= beginprice[i]:\n",
    "        plt.plot(dataOne, priceOne,'r', lw = 8)\n",
    "    else:\n",
    "        plt.plot(dataOne, priceOne,'g', lw = 8)\n",
    "#plt.show()\n",
    "#神经网络搭建，对于输入先进行归一化\n",
    "#1 A B C \n",
    "#输入天数,15行1列的日期\n",
    "dataNormal = np.zeros([15, 1])\n",
    "#当前的价格, 股价定义，15行1列\n",
    "priceNormal = np.zeros([15, 1])\n",
    "for i in range(0,15):\n",
    "    dataNormal[i,0] = i/14.0;\n",
    "    priceNormal[i,0] = endprice[i]/3000.0;\n",
    "\n",
    "#数据的装载，使用placeholder进行装载，x轴，表示水平方向的日期\n",
    "x = tf.placeholder(tf.float32, [None, 1])#表明这是一个n行1列\n",
    "y = tf.placeholder(tf.float32, [None, 1])\n",
    "#隐藏层B,w1,b1都是可变的，w1权重初始化, 1*10的矩阵\n",
    "w1 = tf.Variable(tf.random_uniform([1,10], 0, 1))\n",
    "#b1初始化\n",
    "b1 = tf.Variable(tf.zeros([1,10]))\n",
    "#隐藏层B的计算\n",
    "wb1 = tf.matmul(x, w1) + b1\n",
    "layer1 = tf.nn.relu(wb1)#以上，隐藏层实现完毕\n",
    "#=======================隐藏层=======================\n",
    "#C\n",
    "#w2权重初始化，15*10的矩阵\n",
    "w2 = tf.Variable(tf.random_uniform([10,1], 0, 1))\n",
    "#b2初始化\n",
    "b2 = tf.Variable(tf.zeros([15, 1]))\n",
    "#输出层\n",
    "wb2 = tf.matmul(layer1, w2) + b2\n",
    "layer2 = tf.nn.relu(wb2)#激励函数\n",
    "\n",
    "#计算差异\n",
    "#这里计算的是均值，括号中想完成一个相减的开方\n",
    "loss = tf.reduce_mean(tf.square(y - layer2))#y，保存的是真实值 layer2计算出的是计算出的值。类似于就是一个标准差\n",
    "#使用梯度下降法，使我们当前的损失逐渐减少。\n",
    "train_step = tf.train.GradientDescentOptimizer(0.1).minimize(loss)#0.1表示每次调整多少.minimize(loss)表示目标是缩小loss\n",
    "with tf.Session() as sess:\n",
    "    sess.run(tf.global_variables_initializer())\n",
    "    # 终止有两种实现方式， 1：for循环 2：使用真实值与预测值是否在一个范围内  \n",
    "    for i in range(0, 10000):#训练10000次\n",
    "        sess.run(train_step, feed_dict = {x:dataNormal, y:priceNormal})#往上推，规格到底在于输入值，x, y\n",
    "    #训练出了w1, w2 b1,b2,如何检测有效，隔日一个新的输入值，然后得到了新的预测值  A+wb --> layer2\n",
    "    pred = sess.run(layer2,feed_dict={x:dataNormal})#预测值\n",
    "    predPrice = np.zeros([15,1])\n",
    "    for i in range(0, 15):#一共15天数据\n",
    "        predPrice[i, 0] = (pred*3000)[i,0]#将当前的价格0-1还原到0-3000，同时转换成一个i行，0列的矩阵\n",
    "    plt.plot(date, predPrice, 'b', lw= 1 )#横坐标：日期，纵坐标：最终价格\n",
    "plt.show()\n"
   ]
  },
  {
   "cell_type": "code",
   "execution_count": null,
   "metadata": {},
   "outputs": [],
   "source": []
  }
 ],
 "metadata": {
  "kernelspec": {
   "display_name": "Python 3",
   "language": "python",
   "name": "python3"
  },
  "language_info": {
   "codemirror_mode": {
    "name": "ipython",
    "version": 3
   },
   "file_extension": ".py",
   "mimetype": "text/x-python",
   "name": "python",
   "nbconvert_exporter": "python",
   "pygments_lexer": "ipython3",
   "version": "3.6.2"
  }
 },
 "nbformat": 4,
 "nbformat_minor": 2
}
