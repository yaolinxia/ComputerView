{
 "cells": [
  {
   "cell_type": "code",
   "execution_count": null,
   "metadata": {
    "collapsed": true
   },
   "outputs": [],
   "source": [
    "# 1. 引入opencv  2.调用相应API  3.程序的暂停\n",
    "import cv2\n",
    "img = cv2.imread(\"image0.jpg\", 1)#read image 1 names 2 读取的类型，0，gray  1, color\n",
    "cv2.imshow('image', img) #1 names win 2  img(当前图片的内容)\n",
    "cv2.waitKey(0)#只有暂停，才能看到效果"
   ]
  },
  {
   "cell_type": "code",
   "execution_count": null,
   "metadata": {
    "collapsed": true
   },
   "outputs": [],
   "source": [
    "#1. 案例驱动，2. 类比 3. 28分配，百分之80的精力，投入到百分之20的核心事情中"
   ]
  },
  {
   "cell_type": "code",
   "execution_count": null,
   "metadata": {
    "collapsed": true
   },
   "outputs": [],
   "source": []
  }
 ],
 "metadata": {
  "kernelspec": {
   "display_name": "Python 3",
   "language": "python",
   "name": "python3"
  },
  "language_info": {
   "codemirror_mode": {
    "name": "ipython",
    "version": 3
   },
   "file_extension": ".py",
   "mimetype": "text/x-python",
   "name": "python",
   "nbconvert_exporter": "python",
   "pygments_lexer": "ipython3",
   "version": "3.6.2"
  }
 },
 "nbformat": 4,
 "nbformat_minor": 2
}
