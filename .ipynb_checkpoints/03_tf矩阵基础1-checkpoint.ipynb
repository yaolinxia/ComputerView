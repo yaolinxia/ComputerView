{
 "cells": [
  {
   "cell_type": "code",
   "execution_count": 1,
   "metadata": {},
   "outputs": [
    {
     "name": "stdout",
     "output_type": "stream",
     "text": [
      "8.0\n"
     ]
    }
   ],
   "source": [
    "#有的数据是需要用户在使用时实时定位的\n",
    "#placehold\n",
    "import tensorflow as tf\n",
    "data1 = tf.placeholder(tf.float32)\n",
    "data2 = tf.placeholder(tf.float32)\n",
    "dataAdd = tf.add(data1, data2)\n",
    "with tf.Session() as sess:\n",
    "    print(sess.run(dataAdd, feed_dict = {data1:6, data2:2}))\n",
    "    # 1:dataAdd 2 data(feed_dict= {1: 6,  2:2})"
   ]
  },
  {
   "cell_type": "code",
   "execution_count": 5,
   "metadata": {},
   "outputs": [
    {
     "name": "stdout",
     "output_type": "stream",
     "text": [
      "(3, 2)\n",
      "[[1 2]\n",
      " [3 4]\n",
      " [5 6]]\n",
      "[1 2]\n",
      "[1 3 5]\n",
      "1\n"
     ]
    }
   ],
   "source": [
    "#矩阵运算，可以类比为一个数组， M行 N列 []  内部由[]组成， [里面：列数据]  []中括号整体，作为行数据\n",
    "#[[6,6]]这个代表一行两列\n",
    "import tensorflow as tf\n",
    "data1 = tf.constant([[6, 6]])\n",
    "data2 = tf.constant([[2],\n",
    "                     [2]])\n",
    "data3 = tf.constant([[3, 3]])\n",
    "data4 = tf.constant([[1, 2],\n",
    "                   [3, 4],\n",
    "                   [5, 6]])\n",
    "print(data4.shape)#打印矩阵维度\n",
    "\n",
    "with tf.Session() as sess:\n",
    "    print(sess.run(data4)) #打印整体内容\n",
    "    print(sess.run(data4[0])) #打印某一行\n",
    "    print(sess.run(data4[:, 0])) #打印列\n",
    "    print(sess.run(data4[0, 0])) #第一行， 第一列 所有的M.N，起始位置都为0"
   ]
  },
  {
   "cell_type": "code",
   "execution_count": null,
   "metadata": {},
   "outputs": [],
   "source": []
  }
 ],
 "metadata": {
  "kernelspec": {
   "display_name": "Python 3",
   "language": "python",
   "name": "python3"
  },
  "language_info": {
   "codemirror_mode": {
    "name": "ipython",
    "version": 3
   },
   "file_extension": ".py",
   "mimetype": "text/x-python",
   "name": "python",
   "nbconvert_exporter": "python",
   "pygments_lexer": "ipython3",
   "version": "3.6.2"
  }
 },
 "nbformat": 4,
 "nbformat_minor": 2
}
