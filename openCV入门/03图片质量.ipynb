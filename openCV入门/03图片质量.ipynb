{
 "cells": [
  {
   "cell_type": "code",
   "execution_count": 3,
   "metadata": {},
   "outputs": [
    {
     "data": {
      "text/plain": [
       "True"
      ]
     },
     "execution_count": 3,
     "metadata": {},
     "output_type": "execute_result"
    }
   ],
   "source": [
    "import cv2\n",
    "img = cv2.imread('image0.jpg', 1)\n",
    "cv2.imwrite('imageTest.jpg', img, [cv2.IMWRITE_JPEG_QUALITY, 50])#最后一个参数，表示图片的质量，这个压缩比是以牺牲图片的质量为代价的.图片质量的范围是0-100，是有损压缩\n",
    "#1M 100k  10k\n"
   ]
  },
  {
   "cell_type": "code",
   "execution_count": 4,
   "metadata": {},
   "outputs": [
    {
     "data": {
      "text/plain": [
       "True"
      ]
     },
     "execution_count": 4,
     "metadata": {},
     "output_type": "execute_result"
    }
   ],
   "source": [
    "#1. 无损压缩， 2.透明度属性\n",
    "import cv2\n",
    "img = cv2.imread('image0.jpg', 1)\n",
    "cv2.imwrite('imageTest.png', img , [cv2.IMWRITE_PNG_COMPRESSION, 0])\n",
    "# jpg 0 压缩比高0-100 png 0-9"
   ]
  },
  {
   "cell_type": "code",
   "execution_count": null,
   "metadata": {},
   "outputs": [],
   "source": []
  }
 ],
 "metadata": {
  "kernelspec": {
   "display_name": "Python 3",
   "language": "python",
   "name": "python3"
  },
  "language_info": {
   "codemirror_mode": {
    "name": "ipython",
    "version": 3
   },
   "file_extension": ".py",
   "mimetype": "text/x-python",
   "name": "python",
   "nbconvert_exporter": "python",
   "pygments_lexer": "ipython3",
   "version": "3.6.2"
  }
 },
 "nbformat": 4,
 "nbformat_minor": 2
}
