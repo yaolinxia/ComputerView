{
 "cells": [
  {
   "cell_type": "code",
   "execution_count": null,
   "metadata": {},
   "outputs": [],
   "source": [
    "import cv2\n",
    "import numpy as np\n",
    "#直方图的统计\n",
    "def ImageHist(image,type):\n",
    "    color = (255,255,255)#白色\n",
    "    windowName = 'Gray'#窗体\n",
    "    if type == 31:\n",
    "        color = (255,0,0)#蓝色\n",
    "        windowName = 'B Hist'#蓝色的直方图\n",
    "    elif type == 32:\n",
    "        color = (0,255,0)#绿色\n",
    "        windowName = 'G Hist'\n",
    "    elif type == 33:\n",
    "        color = (0,0,255)#红色\n",
    "        windowName = 'R Hist'\n",
    "    # 1 image 2 [0] 3 mask蒙版 None 4 直方图size :总共256种灰度值，256 5 0-255\n",
    "    hist = cv2.calcHist([image],[0],None,[256],[0.0,255.0])\n",
    "    #绘图\n",
    "    #定义最大值，最小值的坐标\n",
    "    minV,maxV,minL,maxL = cv2.minMaxLoc(hist)\n",
    "    histImg = np.zeros([256,256,3],np.uint8)\n",
    "    for h in range(256):\n",
    "        intenNormal = int(hist[h]*256/maxV)#归一化数据，因为值很大\n",
    "        cv2.line(histImg,(h,256),(h,256-intenNormal),color)#1 矩阵数据，2 因为整个范围在0-255之间\n",
    "    cv2.imshow(windowName,histImg)\n",
    "    return histImg\n",
    "img = cv2.imread('image0.jpg',1)\n",
    "channels = cv2.split(img)# RGB - R G B 获取当前通道，通过split完成颜色分解\n",
    "for i in range(0,3):#遍历每个颜色通道\n",
    "    ImageHist(channels[i],31+i)\n",
    "cv2.waitKey(0)"
   ]
  },
  {
   "cell_type": "code",
   "execution_count": null,
   "metadata": {},
   "outputs": [],
   "source": []
  }
 ],
 "metadata": {
  "kernelspec": {
   "display_name": "Python 3",
   "language": "python",
   "name": "python3"
  },
  "language_info": {
   "codemirror_mode": {
    "name": "ipython",
    "version": 3
   },
   "file_extension": ".py",
   "mimetype": "text/x-python",
   "name": "python",
   "nbconvert_exporter": "python",
   "pygments_lexer": "ipython3",
   "version": "3.6.2"
  }
 },
 "nbformat": 4,
 "nbformat_minor": 2
}
