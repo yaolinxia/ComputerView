{
 "cells": [
  {
   "cell_type": "code",
   "execution_count": null,
   "metadata": {},
   "outputs": [],
   "source": [
    "# 0-255 255-当前\n",
    "import cv2\n",
    "import numpy as np\n",
    "img = cv2.imread('image0.jpg',1)\n",
    "imgInfo = img.shape\n",
    "height = imgInfo[0]\n",
    "width = imgInfo[1]\n",
    "\n",
    "gray = cv2.cvtColor(img, cv2.COLOR_BGR2GRAY)# 1 原始图片 2 颜色转换例子\n",
    "dst =np.zeros((height, width, 3),np.uint8)#把其中3改成1，表明一个像素就一种颜色构成\n",
    "for i in range(0, height):\n",
    "    for j in range(0, width):\n",
    "        grayPixel = gray[i,j]\n",
    "        dst[i,j] = 255 - grayPixel\n",
    "\n",
    "cv2.imshow('dst', dst)\n",
    "cv2.waitKey(0)\n"
   ]
  },
  {
   "cell_type": "code",
   "execution_count": null,
   "metadata": {},
   "outputs": [],
   "source": [
    "# RGB 255- R = newR \n",
    "# 0-255 255-当前\n",
    "import cv2\n",
    "import numpy as np\n",
    "img = cv2.imread('image0.jpg',1)\n",
    "imgInfo = img.shape\n",
    "height = imgInfo[0]\n",
    "width = imgInfo[1]\n",
    "# 注释掉，现在不需要\n",
    "#gray = cv2.cvtColor(img, cv2.COLOR_BGR2GRAY)# 1 原始图片 2 颜色转换例子,\n",
    "dst =np.zeros((height, width, 3),np.uint8)#把其中3改成1，表明一个像素就一种颜色构成\n",
    "for i in range(0, height):\n",
    "    for j in range(0, width):\n",
    "        (b,g,r) = img[i,j]\n",
    "        dst[i,j] = (255 - b, 255-g, 255-r)\n",
    "cv2.imshow('dst', dst)\n",
    "cv2.waitKey(0)\n"
   ]
  },
  {
   "cell_type": "code",
   "execution_count": null,
   "metadata": {},
   "outputs": [],
   "source": []
  }
 ],
 "metadata": {
  "kernelspec": {
   "display_name": "Python 3",
   "language": "python",
   "name": "python3"
  },
  "language_info": {
   "codemirror_mode": {
    "name": "ipython",
    "version": 3
   },
   "file_extension": ".py",
   "mimetype": "text/x-python",
   "name": "python",
   "nbconvert_exporter": "python",
   "pygments_lexer": "ipython3",
   "version": "3.6.2"
  }
 },
 "nbformat": 4,
 "nbformat_minor": 2
}
