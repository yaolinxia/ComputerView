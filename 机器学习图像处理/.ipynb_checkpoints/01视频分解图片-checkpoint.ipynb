{
 "cells": [
  {
   "cell_type": "code",
   "execution_count": 2,
   "metadata": {},
   "outputs": [
    {
     "name": "stdout",
     "output_type": "stream",
     "text": [
      "<built-in method isOpened of cv2.VideoCapture object at 0x1136ce610>\n",
      "29.008016032064127 540 960\n",
      "image1.jpg\n",
      "image2.jpg\n",
      "image3.jpg\n",
      "image4.jpg\n",
      "image5.jpg\n",
      "image6.jpg\n",
      "image7.jpg\n",
      "image8.jpg\n",
      "image9.jpg\n",
      "image10.jpg\n",
      "end!\n"
     ]
    }
   ],
   "source": [
    "# 视频分解图片\n",
    "# 1 load 2 info 3 parse 4 imshow imwrite\n",
    "import cv2\n",
    "cap = cv2.VideoCapture(\"1.mp4\")# 获取一个视频打开cap 1 file name\n",
    "isOpened = cap.isOpened# 判断是否打开，只有正确打开才能执行后续操作\n",
    "print(isOpened)\n",
    "fps = cap.get(cv2.CAP_PROP_FPS)#帧率（一个视频每秒钟可以给大家展示的多少张图片）\n",
    "width = int(cap.get(cv2.CAP_PROP_FRAME_WIDTH))#w h\n",
    "height = int(cap.get(cv2.CAP_PROP_FRAME_HEIGHT))\n",
    "print(fps,width,height)#每秒钟展示的多少张图片，以及相应的宽度以及高度\n",
    "i = 0#记录当前总共读取或者保存了多少张\n",
    "while(isOpened):#看是否有效\n",
    "    if i == 10:#最多保存十张图片\n",
    "        break\n",
    "    else:\n",
    "        i = i+1\n",
    "    (flag,frame) = cap.read()# 读取每一张 flag（表示是否读取成功） frame（表明图片的内容） \n",
    "    fileName = 'image'+str(i)+'.jpg'#将整型转换成字符串类型\n",
    "    print(fileName)\n",
    "    if flag == True:#表明读取一张图片成功\n",
    "        cv2.imwrite(fileName,frame,[cv2.IMWRITE_JPEG_QUALITY,100])#图片名称，图片内容，质量等级控制\n",
    "print('end!')"
   ]
  },
  {
   "cell_type": "code",
   "execution_count": null,
   "metadata": {},
   "outputs": [],
   "source": []
  }
 ],
 "metadata": {
  "kernelspec": {
   "display_name": "Python 3",
   "language": "python",
   "name": "python3"
  },
  "language_info": {
   "codemirror_mode": {
    "name": "ipython",
    "version": 3
   },
   "file_extension": ".py",
   "mimetype": "text/x-python",
   "name": "python",
   "nbconvert_exporter": "python",
   "pygments_lexer": "ipython3",
   "version": "3.6.2"
  }
 },
 "nbformat": 4,
 "nbformat_minor": 2
}
