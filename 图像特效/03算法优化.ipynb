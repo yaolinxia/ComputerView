{
 "cells": [
  {
   "cell_type": "code",
   "execution_count": null,
   "metadata": {},
   "outputs": [],
   "source": []
  },
  {
   "cell_type": "code",
   "execution_count": null,
   "metadata": {},
   "outputs": [],
   "source": [
    "#1 灰度 最重要，2 是很多图像的基础， 3 实时性 （所以优化很有必要）\n",
    "# 定点-》浮点 +-  */ >>\n",
    "# gray = r*0.299 + g*0.587 + b*0.114  这个公式是浮点型，所以想办法转换成定点\n",
    "# 此处是乘以的4 ，还可以乘以100 1000 10000， 乘以的数越大，精度值越好\n",
    "import cv2\n",
    "import numpy as np\n",
    "img = cv2.imread('image0.jpg',1)\n",
    "imgInfo = img.shape\n",
    "height = imgInfo[0]\n",
    "width = imgInfo[1]\n",
    "# RGB R=G=B = gray （R+G+B）/3\n",
    "dst = np.zeros((height, width, 3),np.uint8)\n",
    "for i in range(0, height):\n",
    "    for j in range(0, width):\n",
    "        (b, g, r) = img[i, j]#表示当前的像素点 \n",
    "        b = int(b)\n",
    "        g = int(g)\n",
    "        r = int(r)\n",
    "        #每一个值乘以4,浮点转换成了定点，运算速度大大提升，效果差不多\n",
    "        #gray = (r*1 + g*2 + b*1)/4\n",
    "        gray = (r + (g<<1) + b) >> 2 #原先乘以1的可以省略，乘以2的相当于放大两位，左移一位。除以4相当于右移两位\n",
    "        dst[i,j] = np.uint8(gray)\n",
    "cv2.imshow('dst',dst)\n",
    "cv2.waitKey(0)"
   ]
  },
  {
   "cell_type": "code",
   "execution_count": null,
   "metadata": {},
   "outputs": [],
   "source": []
  },
  {
   "cell_type": "code",
   "execution_count": null,
   "metadata": {},
   "outputs": [],
   "source": []
  }
 ],
 "metadata": {
  "kernelspec": {
   "display_name": "Python 3",
   "language": "python",
   "name": "python3"
  }
 },
 "nbformat": 4,
 "nbformat_minor": 2
}
