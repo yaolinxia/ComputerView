{
 "cells": [
  {
   "cell_type": "code",
   "execution_count": null,
   "metadata": {},
   "outputs": [
    {
     "name": "stdout",
     "output_type": "stream",
     "text": [
      "255 255 255\n"
     ]
    }
   ],
   "source": [
    "import cv2\n",
    "img = cv2.imread('image0.jpg', 1)\n",
    "#以元祖的形式存储，正常元组中是以RGB存储，opencv中以bgr存储\n",
    "(b, g, r) = img[100, 100]\n",
    "print(b, g, r)\n",
    "\n",
    "#实现像素的写入，想绘制一条直线，从10行到100列结束--110， 100\n",
    "#因为总共是100个像素点\n",
    "for i in range(1, 100):\n",
    "    img[10+i, 100] = (255, 0, 0)\n",
    "cv2.imshow('image', img)    \n",
    "cv2.waitKey(0) #1000 ms"
   ]
  },
  {
   "cell_type": "code",
   "execution_count": null,
   "metadata": {},
   "outputs": [],
   "source": []
  }
 ],
 "metadata": {
  "kernelspec": {
   "display_name": "Python 3",
   "language": "python",
   "name": "python3"
  },
  "language_info": {
   "codemirror_mode": {
    "name": "ipython",
    "version": 3
   },
   "file_extension": ".py",
   "mimetype": "text/x-python",
   "name": "python",
   "nbconvert_exporter": "python",
   "pygments_lexer": "ipython3",
   "version": "3.6.2"
  }
 },
 "nbformat": 4,
 "nbformat_minor": 2
}
