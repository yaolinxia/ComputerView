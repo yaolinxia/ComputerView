{
 "cells": [
  {
   "cell_type": "code",
   "execution_count": null,
   "metadata": {},
   "outputs": [],
   "source": [
    "# 中值滤波 3*3 \n",
    "import cv2\n",
    "import numpy as np\n",
    "img = cv2.imread('image11.jpg',1)\n",
    "imgInfo = img.shape\n",
    "height = imgInfo[0]\n",
    "width = imgInfo[1]\n",
    "img = cv2.cvtColor(img,cv2.COLOR_RGB2GRAY)\n",
    "cv2.imshow('src',img)\n",
    "dst = np.zeros((height,width,3),np.uint8)\n",
    "collect = np.zeros(9,np.uint8)# 数组 装载了9个元素，所以其大小为9\n",
    "for i in range(1,height-1):#遍历图像上的每一个点\n",
    "    for j in range(1,width-1):\n",
    "        k = 0\n",
    "        for m in range(-1,2):\n",
    "            for n in range(-1,2):\n",
    "                gray = img[i+m,j+n]\n",
    "                collect[k] = gray\n",
    "                k = k+1\n",
    "        # 0 1 2 3 4 5 6 7 8\n",
    "        #   1 \n",
    "        for k in range(0,9):#遍历当前的9个元素，排个序，可以完成一个数据的交互\n",
    "            p1 = collect[k]\n",
    "            for t in range(k+1,9):\n",
    "                if p1<collect[t]:\n",
    "                    mid = collect[t]\n",
    "                    collect[t] = p1\n",
    "                    p1 = mid\n",
    "        dst[i,j] = collect[4]\n",
    "cv2.imshow('dst',dst)\n",
    "cv2.waitKey(0)"
   ]
  },
  {
   "cell_type": "code",
   "execution_count": null,
   "metadata": {},
   "outputs": [],
   "source": []
  }
 ],
 "metadata": {
  "kernelspec": {
   "display_name": "Python 3",
   "language": "python",
   "name": "python3"
  },
  "language_info": {
   "codemirror_mode": {
    "name": "ipython",
    "version": 3
   },
   "file_extension": ".py",
   "mimetype": "text/x-python",
   "name": "python",
   "nbconvert_exporter": "python",
   "pygments_lexer": "ipython3",
   "version": "3.6.2"
  }
 },
 "nbformat": 4,
 "nbformat_minor": 2
}
