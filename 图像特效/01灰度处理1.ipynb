{
 "cells": [
  {
   "cell_type": "code",
   "execution_count": null,
   "metadata": {},
   "outputs": [
    {
     "name": "stdout",
     "output_type": "stream",
     "text": [
      "(547, 730)\n",
      "(547, 730, 3)\n"
     ]
    }
   ],
   "source": [
    "#imread\n",
    "#方法一，使用imread\n",
    "import cv2\n",
    "img0 = cv2.imread('image0.jpg',0)\n",
    "img1 = cv2.imread('image0.jpg',1)\n",
    "print(img0.shape)\n",
    "print(img1.shape)\n",
    "cv2.imshow('src',img0)\n",
    "cv2.waitKey(0)\n"
   ]
  },
  {
   "cell_type": "code",
   "execution_count": null,
   "metadata": {},
   "outputs": [],
   "source": [
    "#方法2，cvtColor\n",
    "import cv2\n",
    "img = cv2.imread('image0.jpg',1)\n",
    "dst = cv2.cvtColor(img,cv2.COLOR_BGR2GRAY) #处理完之后的灰度数据，颜色空间转换，1 data 2 颜色转换模式BGR->gra\n",
    "cv2.imshow('dst',img0)\n",
    "cv2.waitKey(0)\n"
   ]
  },
  {
   "cell_type": "code",
   "execution_count": null,
   "metadata": {},
   "outputs": [],
   "source": []
  }
 ],
 "metadata": {
  "kernelspec": {
   "display_name": "Python 3",
   "language": "python",
   "name": "python3"
  },
  "language_info": {
   "codemirror_mode": {
    "name": "ipython",
    "version": 3
   },
   "file_extension": ".py",
   "mimetype": "text/x-python",
   "name": "python",
   "nbconvert_exporter": "python",
   "pygments_lexer": "ipython3",
   "version": "3.6.2"
  }
 },
 "nbformat": 4,
 "nbformat_minor": 2
}
