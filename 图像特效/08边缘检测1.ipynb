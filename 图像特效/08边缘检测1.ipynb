{
 "cells": [
  {
   "cell_type": "code",
   "execution_count": null,
   "metadata": {},
   "outputs": [],
   "source": [
    "import cv2\n",
    "import numpy as np\n",
    "import random\n",
    "img = cv2.imread('image0.jpg',1)\n",
    "imgInfo = img.shape\n",
    "height = imgInfo[0]\n",
    "width = imgInfo[1]\n",
    "cv2.imshow('src',img)\n",
    "#canny 1 gray 2 高斯 3 canny \n",
    "\"\"\"\n",
    "canny边缘检测，是基于灰度图像，所以需要把彩色转换成灰色\n",
    "需要进行高斯滤波\n",
    "调用opencv canny方法\n",
    "\"\"\"\n",
    "gray = cv2.cvtColor(img,cv2.COLOR_BGR2GRAY)# 1 图片数据，2 转化类型\n",
    "imgG = cv2.GaussianBlur(gray,(3,3),0)#进行高斯滤波 2 模板方法\n",
    "dst = cv2.Canny(img,50,50) #图片卷积——》th 1 data 2 th门限 如果图片进行卷积之后，大于门限就叫边缘点\n",
    "cv2.imshow('dst',dst)\n",
    "cv2.waitKey(0)"
   ]
  },
  {
   "cell_type": "code",
   "execution_count": null,
   "metadata": {},
   "outputs": [],
   "source": []
  }
 ],
 "metadata": {
  "kernelspec": {
   "display_name": "Python 3",
   "language": "python",
   "name": "python3"
  },
  "language_info": {
   "codemirror_mode": {
    "name": "ipython",
    "version": 3
   },
   "file_extension": ".py",
   "mimetype": "text/x-python",
   "name": "python",
   "nbconvert_exporter": "python",
   "pygments_lexer": "ipython3",
   "version": "3.6.2"
  }
 },
 "nbformat": 4,
 "nbformat_minor": 2
}
