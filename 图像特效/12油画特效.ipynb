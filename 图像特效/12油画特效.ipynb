{
 "cells": [
  {
   "cell_type": "code",
   "execution_count": null,
   "metadata": {},
   "outputs": [],
   "source": [
    "#实现步骤：1 彩色到灰度转化 gray， 2 分成若干个小方块：7*7 10*10， \n",
    "#3 将2步骤中的方块，映射到不同的灰度中，灰度等级划分：0-255 256 4 640-63 64-127 \n",
    "# 3 10 0-63 99 \n",
    "# 4 count 完成灰度块中像素的个数统计\n",
    "# 5 dst = result（用统计出来的平均值，替代原来像素中的值，最终实现优化效果）\n",
    "\n",
    "import cv2\n",
    "import numpy as np\n",
    "img = cv2.imread('image00.jpg',1)\n",
    "cv2.imshow('src',img)\n",
    "imgInfo = img.shape\n",
    "height = imgInfo[0]\n",
    "width = imgInfo[1]\n",
    "gray = cv2.cvtColor(img,cv2.COLOR_BGR2GRAY)\n",
    "dst = np.zeros((height,width,3),np.uint8)\n",
    "for i in range(4,height-4):\n",
    "    for j in range(4,width-4):\n",
    "        array1 = np.zeros(8,np.uint8)#此处定义的灰度等级像素个数是8个，\n",
    "        #定义小方块的大小为8\n",
    "        for m in range(-4,4):\n",
    "            for n in range(-4,4):\n",
    "                #p1的值只能是0-7，p1就是下标\n",
    "                p1 = int(gray[i+m,j+n]/32)#完成第三部，灰度等级的统计，因为分了8个段，所以每个段的灰度等级是32\n",
    "                array1[p1] = array1[p1]+1#当前的像素值完成了累加\n",
    "        currentMax = array1[0] #h获取array1中那个像素值最多\n",
    "        l = 0\n",
    "        for k in range(0,8):\n",
    "            if currentMax<array1[k]:\n",
    "                currentMax = array1[k]\n",
    "                l = k\n",
    "        # 第四步：简化 均值\n",
    "        for m in range(-4,4):\n",
    "            for n in range(-4,4):\n",
    "                #l表明当前处于哪一个灰度段，32 是其灰度等级\n",
    "                if gray[i+m,j+n]>=(l*32) and gray[i+m,j+n]<=((l+1)*32):\n",
    "                    (b,g,r) = img[i+m,j+n]\n",
    "        dst[i,j] = (b,g,r)\n",
    "cv2.imshow('dst',dst)\n",
    "cv2.waitKey(0)"
   ]
  },
  {
   "cell_type": "code",
   "execution_count": null,
   "metadata": {},
   "outputs": [],
   "source": []
  }
 ],
 "metadata": {
  "kernelspec": {
   "display_name": "Python 3",
   "language": "python",
   "name": "python3"
  },
  "language_info": {
   "codemirror_mode": {
    "name": "ipython",
    "version": 3
   },
   "file_extension": ".py",
   "mimetype": "text/x-python",
   "name": "python",
   "nbconvert_exporter": "python",
   "pygments_lexer": "ipython3",
   "version": "3.6.2"
  }
 },
 "nbformat": 4,
 "nbformat_minor": 2
}
