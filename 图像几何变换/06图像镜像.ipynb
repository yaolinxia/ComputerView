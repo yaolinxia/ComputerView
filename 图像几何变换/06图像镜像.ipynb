{
 "cells": [
  {
   "cell_type": "code",
   "execution_count": null,
   "metadata": {},
   "outputs": [],
   "source": [
    "import cv2 \n",
    "import numpy as np\n",
    "img = cv2.imread('image0.jpg',1)\n",
    "imgInfo = img.shape\n",
    "height = imgInfo[0]\n",
    "width = imgInfo[1]\n",
    "deep = imgInfo[2]\n",
    "newImgInfo = (height*2, width, deep)\n",
    "dst = np.zeros(newImgInfo, np.uint8)\n",
    "for i in range(0, height):#高度\n",
    "    for j in range(0, width):#宽度\n",
    "        dst[i,j] = img[i,j]#绘制上半部分\n",
    "        #x不变，y变成高度的两倍，y=2*h-y-1\n",
    "        dst[height*2-i-1, j] = img[i,j]\n",
    "#定义一个分割线        \n",
    "for i in range(0,width):\n",
    "    dst[height,i] = (0, 0 , 255)#RGB\n",
    "cv2.imshow('dst',dst)    \n",
    "cv2.waitKey(0)"
   ]
  },
  {
   "cell_type": "code",
   "execution_count": null,
   "metadata": {},
   "outputs": [],
   "source": []
  }
 ],
 "metadata": {
  "kernelspec": {
   "display_name": "Python 3",
   "language": "python",
   "name": "python3"
  },
  "language_info": {
   "codemirror_mode": {
    "name": "ipython",
    "version": 3
   },
   "file_extension": ".py",
   "mimetype": "text/x-python",
   "name": "python",
   "nbconvert_exporter": "python",
   "pygments_lexer": "ipython3",
   "version": "3.6.2"
  }
 },
 "nbformat": 4,
 "nbformat_minor": 2
}
