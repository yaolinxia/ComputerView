{
 "cells": [
  {
   "cell_type": "code",
   "execution_count": null,
   "metadata": {},
   "outputs": [],
   "source": [
    "import cv2\n",
    "import numpy as np\n",
    "img = cv2.imread('image0.jpg',1)\n",
    "imgInfo = img.shape\n",
    "height = imgInfo[0]\n",
    "width = imgInfo[1]\n",
    "###\n",
    "#设置一个移位矩阵\n",
    "matShift = np.float32([[1, 0, 100],[0, 1, 200]])#2*3\n",
    "#目标图片\n",
    "dst = cv2.warpAffine(img,matShift, (height, width))# 1 data 2 mat 3  info\n",
    "#移位 矩阵\n",
    "cv2.imshow('dst', dst)\n",
    "cv2.waitKey(0)"
   ]
  },
  {
   "cell_type": "code",
   "execution_count": null,
   "metadata": {},
   "outputs": [],
   "source": [
    "# [1, 0, 100],[0, 1, 200]  2*2  2*!拆分成两个矩阵\n",
    "# [[1,0],[0,1]] 2*2 A\n",
    "# [[100],[200]] 2*1 B\n",
    "# 输入矩阵：xy C\n",
    "# A*C+B = [[1*x+0*y],[0*x+1*y]] + [[100],[200]] 新的xy ,描述就是移位之后的矩阵\n",
    "# = [[x+100],[y+200]]\n",
    "\n",
    "###像素级别\n",
    "# 比如原先(10, 20 )-> 映射为(110, 220)\n",
    "\n",
    "\n",
    "\n",
    "\n"
   ]
  }
 ],
 "metadata": {
  "kernelspec": {
   "display_name": "Python 3",
   "language": "python",
   "name": "python3"
  },
  "language_info": {
   "codemirror_mode": {
    "name": "ipython",
    "version": 3
   },
   "file_extension": ".py",
   "mimetype": "text/x-python",
   "name": "python",
   "nbconvert_exporter": "python",
   "pygments_lexer": "ipython3",
   "version": "3.6.2"
  }
 },
 "nbformat": 4,
 "nbformat_minor": 2
}
