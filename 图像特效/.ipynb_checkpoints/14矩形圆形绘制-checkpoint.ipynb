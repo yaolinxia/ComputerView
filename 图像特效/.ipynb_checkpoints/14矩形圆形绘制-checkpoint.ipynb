{
 "cells": [
  {
   "cell_type": "code",
   "execution_count": null,
   "metadata": {},
   "outputs": [
    {
     "name": "stdout",
     "output_type": "stream",
     "text": [
      "(5, 2)\n",
      "(5, 1, 2)\n"
     ]
    }
   ],
   "source": [
    "import cv2\n",
    "import numpy as np\n",
    "newImageInfo = (500,500,3)\n",
    "dst = np.zeros(newImageInfo,np.uint8)\n",
    "#  1 2 左上角 3 右下角 4 5 是否填充fill -1表示需要填充， >0 line w\n",
    "cv2.rectangle(dst,(50,100),(200,300),(255,0,0),5)\n",
    "# 2 圆心 center 3 半径 r \n",
    "cv2.circle(dst,(250,250),(50),(0,255,0),2)\n",
    "# 绘制椭圆形\n",
    "# 2 center 3 轴 4 偏转角度 angle 5 begin 6 end 7 \n",
    "cv2.ellipse(dst,(256,256),(150,100),0,0,180,(255,255,0),-1)\n",
    "# points表示当前的线段\n",
    "points = np.array([[150,50],[140,140],[200,170],[250,250],[150,50]],np.int32)\n",
    "print(points.shape)\n",
    "# 实现一个维度转换，由（5,2）->(5,1,2)\n",
    "points = points.reshape((-1,1,2))\n",
    "print(points.shape)\n",
    "#该方法完成当前多边形的绘制\n",
    "cv2.polylines(dst,[points],True,(0,255,255))\n",
    "cv2.imshow('dst',dst)\n",
    "cv2.waitKey(0)"
   ]
  },
  {
   "cell_type": "code",
   "execution_count": null,
   "metadata": {},
   "outputs": [],
   "source": []
  }
 ],
 "metadata": {
  "kernelspec": {
   "display_name": "Python 3",
   "language": "python",
   "name": "python3"
  },
  "language_info": {
   "codemirror_mode": {
    "name": "ipython",
    "version": 3
   },
   "file_extension": ".py",
   "mimetype": "text/x-python",
   "name": "python",
   "nbconvert_exporter": "python",
   "pygments_lexer": "ipython3",
   "version": "3.6.2"
  }
 },
 "nbformat": 4,
 "nbformat_minor": 2
}
