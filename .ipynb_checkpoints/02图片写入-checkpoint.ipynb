{
 "cells": [
  {
   "cell_type": "code",
   "execution_count": null,
   "metadata": {},
   "outputs": [],
   "source": [
    "import cv2\n",
    "#1.文件的读取 2.封装格式解析 3.数据解码 4.数据加载(2, 3内部做了)\n",
    "img = cv2.imread('image0.jpg',1)\n",
    "cv2.imshow('image',img)\n",
    "\n",
    "#jpg ,png其实是文件的封装格式，看成两部分。1. 文件头 （描述的是数据部分是解码信息以及附加信息）2.文件数据（这里指的是图片进行压缩编码之后的数据）\n",
    "cv2.waitKey(0)\n",
    "# 1.14M 130k\n"
   ]
  },
  {
   "cell_type": "code",
   "execution_count": null,
   "metadata": {},
   "outputs": [],
   "source": [
    "import cv2\n",
    "img = cv2.imread('image0.jpg',1)\n",
    "cv2.imwrite('image1.jpg',img)  # 1: name 2: data(解码之后的数据，是图片的原始数据)"
   ]
  },
  {
   "cell_type": "code",
   "execution_count": null,
   "metadata": {},
   "outputs": [],
   "source": []
  },
  {
   "cell_type": "code",
   "execution_count": null,
   "metadata": {},
   "outputs": [],
   "source": []
  }
 ],
 "metadata": {
  "kernelspec": {
   "display_name": "Python 3",
   "language": "python",
   "name": "python3"
  },
  "language_info": {
   "codemirror_mode": {
    "name": "ipython",
    "version": 3
   },
   "file_extension": ".py",
   "mimetype": "text/x-python",
   "name": "python",
   "nbconvert_exporter": "python",
   "pygments_lexer": "ipython3",
   "version": "3.6.2"
  }
 },
 "nbformat": 4,
 "nbformat_minor": 2
}
